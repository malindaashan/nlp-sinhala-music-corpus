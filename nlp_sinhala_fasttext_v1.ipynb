{
  "cells": [
    {
      "cell_type": "code",
      "execution_count": 1,
      "id": "af398bc8",
      "metadata": {
        "id": "af398bc8"
      },
      "outputs": [],
      "source": [
        "import pandas as pd\n",
        "import unicodedata\n",
        "import re\n",
        "import nltk"
      ]
    },
    {
      "cell_type": "code",
      "source": [
        "from google.colab import drive\n",
        "import pandas as pd\n",
        "import numpy as np\n",
        "from sklearn import linear_model\n",
        "from sklearn import datasets\n",
        "from sklearn import preprocessing\n",
        "from sklearn.preprocessing import StandardScaler\n",
        "import nltk\n",
        "\n",
        "# Loading data via google drive\n",
        "drive.mount('/content/drive')"
      ],
      "metadata": {
        "colab": {
          "base_uri": "https://localhost:8080/"
        },
        "id": "gk7lSOqtgOZi",
        "outputId": "6b71c157-8694-4cd9-9cd8-23bf4ec5d8f5"
      },
      "id": "gk7lSOqtgOZi",
      "execution_count": 2,
      "outputs": [
        {
          "output_type": "stream",
          "name": "stdout",
          "text": [
            "Drive already mounted at /content/drive; to attempt to forcibly remount, call drive.mount(\"/content/drive\", force_remount=True).\n"
          ]
        }
      ]
    },
    {
      "cell_type": "code",
      "execution_count": 3,
      "id": "a30f85cc",
      "metadata": {
        "colab": {
          "base_uri": "https://localhost:8080/",
          "height": 423
        },
        "id": "a30f85cc",
        "outputId": "99bc17b0-d8fd-4761-caa0-60be3c5b6c0b"
      },
      "outputs": [
        {
          "output_type": "execute_result",
          "data": {
            "text/plain": [
              "    song_id                     song_name                           Artist  \\\n",
              "0      C 01      Kaulu Piyan Path Wahanna                    Kasun Kalhara   \n",
              "1      C 02    Ruk Aththana Mala Mudune\\n                     Nanda Malini   \n",
              "2      C 03               Samanala Mudune  H R Jothipala and Latha Walpola   \n",
              "3      C 04               Niwan Dutu Himi                Victor Rathnayaka   \n",
              "4      C 05  Suwanda Danee Danee Danenawa            Rookantha Gunathilake   \n",
              "..      ...                           ...                              ...   \n",
              "157    S 48               Dangakaaree Man              Indrani Wijebandara   \n",
              "158    S 49               Edaa Wage Adath             Somathilaka Jayamaha   \n",
              "159    S 50        Paluwa Dewanath Karala                  Gunadasa Kapuge   \n",
              "160    S 51             Pawena Nil Walawe                  W. D. Amaradeva   \n",
              "161    S 52                  Andara Yaye            Karunarathna Divulgane   \n",
              "\n",
              "                                                Lyrics  Type  \n",
              "0    කවුළු පියන්පත් වහන්න සඳළුතලාවේ\\r\\nඔබ දුරයි නෙත...  Calm  \n",
              "1    රුක් අත්තන මල මුදුනේ\\r\\n\\r\\nබඹරු නටන හැන්දෑවේ…...  Calm  \n",
              "2    \\r\\nසමනළ මුදුනේ සිරිපද සිඹ සිඹ\\r\\nඋදා ඉරක් පාය...  Calm  \n",
              "3    නිවන් දුටු හිමි රැවන් පිළිරැව\\r\\nපමණි මට අද ශේ...  Calm  \n",
              "4    සුවඳ දැනී දැනී දැනෙනවා...\\r\\nඋදා හිරු එළියේ......  Calm  \n",
              "..                                                 ...   ...  \n",
              "157  දඟකාරී මං මද්දුම දෝණි\\nඔබට අකීකරු නෑ අම්මේ\\nදඟ...   Sad  \n",
              "158  එදා වාගේ අදත් පොද වැස්ස වැටෙනවා\\r\\nමල් පිපුණු ...   Sad  \n",
              "159  පාළුව දෙවනත් කරලා\\r\\nනාඩන් උලලේනෝ\\r\\nකාටත් නපු...   Sad  \n",
              "160  පාවෙනා නිල් වලාවේ\\r\\nනදී තලාවේ\\r\\nරිදී ජලාසේ\\r...   Sad  \n",
              "161  අන්දර යායේ වැව්තාවුල්ලේ\\r\\nසක්මන් කරනා අප්පච්ච...   Sad  \n",
              "\n",
              "[162 rows x 5 columns]"
            ],
            "text/html": [
              "\n",
              "  <div id=\"df-9e58589a-1806-4645-98fa-b8d24ec8442f\" class=\"colab-df-container\">\n",
              "    <div>\n",
              "<style scoped>\n",
              "    .dataframe tbody tr th:only-of-type {\n",
              "        vertical-align: middle;\n",
              "    }\n",
              "\n",
              "    .dataframe tbody tr th {\n",
              "        vertical-align: top;\n",
              "    }\n",
              "\n",
              "    .dataframe thead th {\n",
              "        text-align: right;\n",
              "    }\n",
              "</style>\n",
              "<table border=\"1\" class=\"dataframe\">\n",
              "  <thead>\n",
              "    <tr style=\"text-align: right;\">\n",
              "      <th></th>\n",
              "      <th>song_id</th>\n",
              "      <th>song_name</th>\n",
              "      <th>Artist</th>\n",
              "      <th>Lyrics</th>\n",
              "      <th>Type</th>\n",
              "    </tr>\n",
              "  </thead>\n",
              "  <tbody>\n",
              "    <tr>\n",
              "      <th>0</th>\n",
              "      <td>C 01</td>\n",
              "      <td>Kaulu Piyan Path Wahanna</td>\n",
              "      <td>Kasun Kalhara</td>\n",
              "      <td>කවුළු පියන්පත් වහන්න සඳළුතලාවේ\\r\\nඔබ දුරයි නෙත...</td>\n",
              "      <td>Calm</td>\n",
              "    </tr>\n",
              "    <tr>\n",
              "      <th>1</th>\n",
              "      <td>C 02</td>\n",
              "      <td>Ruk Aththana Mala Mudune\\n</td>\n",
              "      <td>Nanda Malini</td>\n",
              "      <td>රුක් අත්තන මල මුදුනේ\\r\\n\\r\\nබඹරු නටන හැන්දෑවේ…...</td>\n",
              "      <td>Calm</td>\n",
              "    </tr>\n",
              "    <tr>\n",
              "      <th>2</th>\n",
              "      <td>C 03</td>\n",
              "      <td>Samanala Mudune</td>\n",
              "      <td>H R Jothipala and Latha Walpola</td>\n",
              "      <td>\\r\\nසමනළ මුදුනේ සිරිපද සිඹ සිඹ\\r\\nඋදා ඉරක් පාය...</td>\n",
              "      <td>Calm</td>\n",
              "    </tr>\n",
              "    <tr>\n",
              "      <th>3</th>\n",
              "      <td>C 04</td>\n",
              "      <td>Niwan Dutu Himi</td>\n",
              "      <td>Victor Rathnayaka</td>\n",
              "      <td>නිවන් දුටු හිමි රැවන් පිළිරැව\\r\\nපමණි මට අද ශේ...</td>\n",
              "      <td>Calm</td>\n",
              "    </tr>\n",
              "    <tr>\n",
              "      <th>4</th>\n",
              "      <td>C 05</td>\n",
              "      <td>Suwanda Danee Danee Danenawa</td>\n",
              "      <td>Rookantha Gunathilake</td>\n",
              "      <td>සුවඳ දැනී දැනී දැනෙනවා...\\r\\nඋදා හිරු එළියේ......</td>\n",
              "      <td>Calm</td>\n",
              "    </tr>\n",
              "    <tr>\n",
              "      <th>...</th>\n",
              "      <td>...</td>\n",
              "      <td>...</td>\n",
              "      <td>...</td>\n",
              "      <td>...</td>\n",
              "      <td>...</td>\n",
              "    </tr>\n",
              "    <tr>\n",
              "      <th>157</th>\n",
              "      <td>S 48</td>\n",
              "      <td>Dangakaaree Man</td>\n",
              "      <td>Indrani Wijebandara</td>\n",
              "      <td>දඟකාරී මං මද්දුම දෝණි\\nඔබට අකීකරු නෑ අම්මේ\\nදඟ...</td>\n",
              "      <td>Sad</td>\n",
              "    </tr>\n",
              "    <tr>\n",
              "      <th>158</th>\n",
              "      <td>S 49</td>\n",
              "      <td>Edaa Wage Adath</td>\n",
              "      <td>Somathilaka Jayamaha</td>\n",
              "      <td>එදා වාගේ අදත් පොද වැස්ස වැටෙනවා\\r\\nමල් පිපුණු ...</td>\n",
              "      <td>Sad</td>\n",
              "    </tr>\n",
              "    <tr>\n",
              "      <th>159</th>\n",
              "      <td>S 50</td>\n",
              "      <td>Paluwa Dewanath Karala</td>\n",
              "      <td>Gunadasa Kapuge</td>\n",
              "      <td>පාළුව දෙවනත් කරලා\\r\\nනාඩන් උලලේනෝ\\r\\nකාටත් නපු...</td>\n",
              "      <td>Sad</td>\n",
              "    </tr>\n",
              "    <tr>\n",
              "      <th>160</th>\n",
              "      <td>S 51</td>\n",
              "      <td>Pawena Nil Walawe</td>\n",
              "      <td>W. D. Amaradeva</td>\n",
              "      <td>පාවෙනා නිල් වලාවේ\\r\\nනදී තලාවේ\\r\\nරිදී ජලාසේ\\r...</td>\n",
              "      <td>Sad</td>\n",
              "    </tr>\n",
              "    <tr>\n",
              "      <th>161</th>\n",
              "      <td>S 52</td>\n",
              "      <td>Andara Yaye</td>\n",
              "      <td>Karunarathna Divulgane</td>\n",
              "      <td>අන්දර යායේ වැව්තාවුල්ලේ\\r\\nසක්මන් කරනා අප්පච්ච...</td>\n",
              "      <td>Sad</td>\n",
              "    </tr>\n",
              "  </tbody>\n",
              "</table>\n",
              "<p>162 rows × 5 columns</p>\n",
              "</div>\n",
              "    <div class=\"colab-df-buttons\">\n",
              "\n",
              "  <div class=\"colab-df-container\">\n",
              "    <button class=\"colab-df-convert\" onclick=\"convertToInteractive('df-9e58589a-1806-4645-98fa-b8d24ec8442f')\"\n",
              "            title=\"Convert this dataframe to an interactive table.\"\n",
              "            style=\"display:none;\">\n",
              "\n",
              "  <svg xmlns=\"http://www.w3.org/2000/svg\" height=\"24px\" viewBox=\"0 -960 960 960\">\n",
              "    <path d=\"M120-120v-720h720v720H120Zm60-500h600v-160H180v160Zm220 220h160v-160H400v160Zm0 220h160v-160H400v160ZM180-400h160v-160H180v160Zm440 0h160v-160H620v160ZM180-180h160v-160H180v160Zm440 0h160v-160H620v160Z\"/>\n",
              "  </svg>\n",
              "    </button>\n",
              "\n",
              "  <style>\n",
              "    .colab-df-container {\n",
              "      display:flex;\n",
              "      gap: 12px;\n",
              "    }\n",
              "\n",
              "    .colab-df-convert {\n",
              "      background-color: #E8F0FE;\n",
              "      border: none;\n",
              "      border-radius: 50%;\n",
              "      cursor: pointer;\n",
              "      display: none;\n",
              "      fill: #1967D2;\n",
              "      height: 32px;\n",
              "      padding: 0 0 0 0;\n",
              "      width: 32px;\n",
              "    }\n",
              "\n",
              "    .colab-df-convert:hover {\n",
              "      background-color: #E2EBFA;\n",
              "      box-shadow: 0px 1px 2px rgba(60, 64, 67, 0.3), 0px 1px 3px 1px rgba(60, 64, 67, 0.15);\n",
              "      fill: #174EA6;\n",
              "    }\n",
              "\n",
              "    .colab-df-buttons div {\n",
              "      margin-bottom: 4px;\n",
              "    }\n",
              "\n",
              "    [theme=dark] .colab-df-convert {\n",
              "      background-color: #3B4455;\n",
              "      fill: #D2E3FC;\n",
              "    }\n",
              "\n",
              "    [theme=dark] .colab-df-convert:hover {\n",
              "      background-color: #434B5C;\n",
              "      box-shadow: 0px 1px 3px 1px rgba(0, 0, 0, 0.15);\n",
              "      filter: drop-shadow(0px 1px 2px rgba(0, 0, 0, 0.3));\n",
              "      fill: #FFFFFF;\n",
              "    }\n",
              "  </style>\n",
              "\n",
              "    <script>\n",
              "      const buttonEl =\n",
              "        document.querySelector('#df-9e58589a-1806-4645-98fa-b8d24ec8442f button.colab-df-convert');\n",
              "      buttonEl.style.display =\n",
              "        google.colab.kernel.accessAllowed ? 'block' : 'none';\n",
              "\n",
              "      async function convertToInteractive(key) {\n",
              "        const element = document.querySelector('#df-9e58589a-1806-4645-98fa-b8d24ec8442f');\n",
              "        const dataTable =\n",
              "          await google.colab.kernel.invokeFunction('convertToInteractive',\n",
              "                                                    [key], {});\n",
              "        if (!dataTable) return;\n",
              "\n",
              "        const docLinkHtml = 'Like what you see? Visit the ' +\n",
              "          '<a target=\"_blank\" href=https://colab.research.google.com/notebooks/data_table.ipynb>data table notebook</a>'\n",
              "          + ' to learn more about interactive tables.';\n",
              "        element.innerHTML = '';\n",
              "        dataTable['output_type'] = 'display_data';\n",
              "        await google.colab.output.renderOutput(dataTable, element);\n",
              "        const docLink = document.createElement('div');\n",
              "        docLink.innerHTML = docLinkHtml;\n",
              "        element.appendChild(docLink);\n",
              "      }\n",
              "    </script>\n",
              "  </div>\n",
              "\n",
              "\n",
              "<div id=\"df-02b2eb4c-3c0c-41b9-a6f5-8f28f5dfd739\">\n",
              "  <button class=\"colab-df-quickchart\" onclick=\"quickchart('df-02b2eb4c-3c0c-41b9-a6f5-8f28f5dfd739')\"\n",
              "            title=\"Suggest charts.\"\n",
              "            style=\"display:none;\">\n",
              "\n",
              "<svg xmlns=\"http://www.w3.org/2000/svg\" height=\"24px\"viewBox=\"0 0 24 24\"\n",
              "     width=\"24px\">\n",
              "    <g>\n",
              "        <path d=\"M19 3H5c-1.1 0-2 .9-2 2v14c0 1.1.9 2 2 2h14c1.1 0 2-.9 2-2V5c0-1.1-.9-2-2-2zM9 17H7v-7h2v7zm4 0h-2V7h2v10zm4 0h-2v-4h2v4z\"/>\n",
              "    </g>\n",
              "</svg>\n",
              "  </button>\n",
              "\n",
              "<style>\n",
              "  .colab-df-quickchart {\n",
              "      --bg-color: #E8F0FE;\n",
              "      --fill-color: #1967D2;\n",
              "      --hover-bg-color: #E2EBFA;\n",
              "      --hover-fill-color: #174EA6;\n",
              "      --disabled-fill-color: #AAA;\n",
              "      --disabled-bg-color: #DDD;\n",
              "  }\n",
              "\n",
              "  [theme=dark] .colab-df-quickchart {\n",
              "      --bg-color: #3B4455;\n",
              "      --fill-color: #D2E3FC;\n",
              "      --hover-bg-color: #434B5C;\n",
              "      --hover-fill-color: #FFFFFF;\n",
              "      --disabled-bg-color: #3B4455;\n",
              "      --disabled-fill-color: #666;\n",
              "  }\n",
              "\n",
              "  .colab-df-quickchart {\n",
              "    background-color: var(--bg-color);\n",
              "    border: none;\n",
              "    border-radius: 50%;\n",
              "    cursor: pointer;\n",
              "    display: none;\n",
              "    fill: var(--fill-color);\n",
              "    height: 32px;\n",
              "    padding: 0;\n",
              "    width: 32px;\n",
              "  }\n",
              "\n",
              "  .colab-df-quickchart:hover {\n",
              "    background-color: var(--hover-bg-color);\n",
              "    box-shadow: 0 1px 2px rgba(60, 64, 67, 0.3), 0 1px 3px 1px rgba(60, 64, 67, 0.15);\n",
              "    fill: var(--button-hover-fill-color);\n",
              "  }\n",
              "\n",
              "  .colab-df-quickchart-complete:disabled,\n",
              "  .colab-df-quickchart-complete:disabled:hover {\n",
              "    background-color: var(--disabled-bg-color);\n",
              "    fill: var(--disabled-fill-color);\n",
              "    box-shadow: none;\n",
              "  }\n",
              "\n",
              "  .colab-df-spinner {\n",
              "    border: 2px solid var(--fill-color);\n",
              "    border-color: transparent;\n",
              "    border-bottom-color: var(--fill-color);\n",
              "    animation:\n",
              "      spin 1s steps(1) infinite;\n",
              "  }\n",
              "\n",
              "  @keyframes spin {\n",
              "    0% {\n",
              "      border-color: transparent;\n",
              "      border-bottom-color: var(--fill-color);\n",
              "      border-left-color: var(--fill-color);\n",
              "    }\n",
              "    20% {\n",
              "      border-color: transparent;\n",
              "      border-left-color: var(--fill-color);\n",
              "      border-top-color: var(--fill-color);\n",
              "    }\n",
              "    30% {\n",
              "      border-color: transparent;\n",
              "      border-left-color: var(--fill-color);\n",
              "      border-top-color: var(--fill-color);\n",
              "      border-right-color: var(--fill-color);\n",
              "    }\n",
              "    40% {\n",
              "      border-color: transparent;\n",
              "      border-right-color: var(--fill-color);\n",
              "      border-top-color: var(--fill-color);\n",
              "    }\n",
              "    60% {\n",
              "      border-color: transparent;\n",
              "      border-right-color: var(--fill-color);\n",
              "    }\n",
              "    80% {\n",
              "      border-color: transparent;\n",
              "      border-right-color: var(--fill-color);\n",
              "      border-bottom-color: var(--fill-color);\n",
              "    }\n",
              "    90% {\n",
              "      border-color: transparent;\n",
              "      border-bottom-color: var(--fill-color);\n",
              "    }\n",
              "  }\n",
              "</style>\n",
              "\n",
              "  <script>\n",
              "    async function quickchart(key) {\n",
              "      const quickchartButtonEl =\n",
              "        document.querySelector('#' + key + ' button');\n",
              "      quickchartButtonEl.disabled = true;  // To prevent multiple clicks.\n",
              "      quickchartButtonEl.classList.add('colab-df-spinner');\n",
              "      try {\n",
              "        const charts = await google.colab.kernel.invokeFunction(\n",
              "            'suggestCharts', [key], {});\n",
              "      } catch (error) {\n",
              "        console.error('Error during call to suggestCharts:', error);\n",
              "      }\n",
              "      quickchartButtonEl.classList.remove('colab-df-spinner');\n",
              "      quickchartButtonEl.classList.add('colab-df-quickchart-complete');\n",
              "    }\n",
              "    (() => {\n",
              "      let quickchartButtonEl =\n",
              "        document.querySelector('#df-02b2eb4c-3c0c-41b9-a6f5-8f28f5dfd739 button');\n",
              "      quickchartButtonEl.style.display =\n",
              "        google.colab.kernel.accessAllowed ? 'block' : 'none';\n",
              "    })();\n",
              "  </script>\n",
              "</div>\n",
              "    </div>\n",
              "  </div>\n"
            ]
          },
          "metadata": {},
          "execution_count": 3
        }
      ],
      "source": [
        "data_df = pd.read_csv(r\"/content/drive/My Drive/data/dataset-metadata-with-lyrics.csv\")\n",
        "data_df = pd.DataFrame(data_df)\n",
        "data_df"
      ]
    },
    {
      "cell_type": "code",
      "execution_count": 4,
      "id": "b1a792a1",
      "metadata": {
        "id": "b1a792a1"
      },
      "outputs": [],
      "source": [
        "def lineBreakReplace(text):\n",
        "    return text.replace(\"\\r\\n\", \" \")"
      ]
    },
    {
      "cell_type": "code",
      "execution_count": 5,
      "id": "19aaf9de",
      "metadata": {
        "id": "19aaf9de"
      },
      "outputs": [],
      "source": [
        "data_df['Lyrics'] =data_df.apply(lambda x: lineBreakReplace(x.Lyrics), axis=1)"
      ]
    },
    {
      "cell_type": "code",
      "execution_count": 6,
      "id": "85c468d6",
      "metadata": {
        "id": "85c468d6"
      },
      "outputs": [],
      "source": [
        "def removeEscapSequences(text):\n",
        "    return \"\".join(ch for ch in text if unicodedata.category(ch)[0]!=\"C\")"
      ]
    },
    {
      "cell_type": "code",
      "execution_count": 7,
      "id": "4e767818",
      "metadata": {
        "id": "4e767818"
      },
      "outputs": [],
      "source": [
        "data_df['Lyrics'] =data_df.apply(lambda x: removeEscapSequences(x.Lyrics), axis=1)"
      ]
    },
    {
      "cell_type": "code",
      "execution_count": 8,
      "id": "ec360e61",
      "metadata": {
        "id": "ec360e61"
      },
      "outputs": [],
      "source": [
        "def remove_digits(text):\n",
        "    return ''.join([i for i in text if not i.isdigit()])"
      ]
    },
    {
      "cell_type": "code",
      "execution_count": 9,
      "id": "0ff52324",
      "metadata": {
        "id": "0ff52324"
      },
      "outputs": [],
      "source": [
        "data_df['Lyrics'] =data_df.apply(lambda x: removeEscapSequences(x.Lyrics), axis=1)"
      ]
    },
    {
      "cell_type": "code",
      "execution_count": 10,
      "id": "7c8b90f3",
      "metadata": {
        "id": "7c8b90f3"
      },
      "outputs": [],
      "source": [
        "def removeHtmlTags(text):\n",
        "    p = re.compile(r'<.*?>')\n",
        "    return p.sub('', text)"
      ]
    },
    {
      "cell_type": "code",
      "execution_count": 11,
      "id": "a19ab1f7",
      "metadata": {
        "id": "a19ab1f7"
      },
      "outputs": [],
      "source": [
        "data_df['Lyrics'] = data_df.apply(lambda x: removeHtmlTags(x.Lyrics), axis=1)"
      ]
    },
    {
      "cell_type": "code",
      "execution_count": 12,
      "id": "6f7710d2",
      "metadata": {
        "colab": {
          "base_uri": "https://localhost:8080/",
          "height": 206
        },
        "id": "6f7710d2",
        "outputId": "b74cb7d4-c073-4add-c606-353f35a70cc2"
      },
      "outputs": [
        {
          "output_type": "execute_result",
          "data": {
            "text/plain": [
              "  song_id                     song_name                           Artist  \\\n",
              "0    C 01      Kaulu Piyan Path Wahanna                    Kasun Kalhara   \n",
              "1    C 02    Ruk Aththana Mala Mudune\\n                     Nanda Malini   \n",
              "2    C 03               Samanala Mudune  H R Jothipala and Latha Walpola   \n",
              "3    C 04               Niwan Dutu Himi                Victor Rathnayaka   \n",
              "4    C 05  Suwanda Danee Danee Danenawa            Rookantha Gunathilake   \n",
              "\n",
              "                                              Lyrics  Type  \n",
              "0  කවුළු පියන්පත් වහන්න සඳළුතලාවේ ඔබ දුරයි නෙතට ම...  Calm  \n",
              "1  රුක් අත්තන මල මුදුනේ  බඹරු නටන හැන්දෑවේ… සැදෑ ...  Calm  \n",
              "2   සමනළ මුදුනේ සිරිපද සිඹ සිඹ උදා ඉරක් පායයි සැන...  Calm  \n",
              "3  නිවන් දුටු හිමි රැවන් පිළිරැව පමණි මට අද ශේෂ ව...  Calm  \n",
              "4  සුවඳ දැනී දැනී දැනෙනවා... උදා හිරු එළියේ... අළ...  Calm  "
            ],
            "text/html": [
              "\n",
              "  <div id=\"df-ee70f256-6bb4-4fd0-9690-de2c3ad99461\" class=\"colab-df-container\">\n",
              "    <div>\n",
              "<style scoped>\n",
              "    .dataframe tbody tr th:only-of-type {\n",
              "        vertical-align: middle;\n",
              "    }\n",
              "\n",
              "    .dataframe tbody tr th {\n",
              "        vertical-align: top;\n",
              "    }\n",
              "\n",
              "    .dataframe thead th {\n",
              "        text-align: right;\n",
              "    }\n",
              "</style>\n",
              "<table border=\"1\" class=\"dataframe\">\n",
              "  <thead>\n",
              "    <tr style=\"text-align: right;\">\n",
              "      <th></th>\n",
              "      <th>song_id</th>\n",
              "      <th>song_name</th>\n",
              "      <th>Artist</th>\n",
              "      <th>Lyrics</th>\n",
              "      <th>Type</th>\n",
              "    </tr>\n",
              "  </thead>\n",
              "  <tbody>\n",
              "    <tr>\n",
              "      <th>0</th>\n",
              "      <td>C 01</td>\n",
              "      <td>Kaulu Piyan Path Wahanna</td>\n",
              "      <td>Kasun Kalhara</td>\n",
              "      <td>කවුළු පියන්පත් වහන්න සඳළුතලාවේ ඔබ දුරයි නෙතට ම...</td>\n",
              "      <td>Calm</td>\n",
              "    </tr>\n",
              "    <tr>\n",
              "      <th>1</th>\n",
              "      <td>C 02</td>\n",
              "      <td>Ruk Aththana Mala Mudune\\n</td>\n",
              "      <td>Nanda Malini</td>\n",
              "      <td>රුක් අත්තන මල මුදුනේ  බඹරු නටන හැන්දෑවේ… සැදෑ ...</td>\n",
              "      <td>Calm</td>\n",
              "    </tr>\n",
              "    <tr>\n",
              "      <th>2</th>\n",
              "      <td>C 03</td>\n",
              "      <td>Samanala Mudune</td>\n",
              "      <td>H R Jothipala and Latha Walpola</td>\n",
              "      <td>සමනළ මුදුනේ සිරිපද සිඹ සිඹ උදා ඉරක් පායයි සැන...</td>\n",
              "      <td>Calm</td>\n",
              "    </tr>\n",
              "    <tr>\n",
              "      <th>3</th>\n",
              "      <td>C 04</td>\n",
              "      <td>Niwan Dutu Himi</td>\n",
              "      <td>Victor Rathnayaka</td>\n",
              "      <td>නිවන් දුටු හිමි රැවන් පිළිරැව පමණි මට අද ශේෂ ව...</td>\n",
              "      <td>Calm</td>\n",
              "    </tr>\n",
              "    <tr>\n",
              "      <th>4</th>\n",
              "      <td>C 05</td>\n",
              "      <td>Suwanda Danee Danee Danenawa</td>\n",
              "      <td>Rookantha Gunathilake</td>\n",
              "      <td>සුවඳ දැනී දැනී දැනෙනවා... උදා හිරු එළියේ... අළ...</td>\n",
              "      <td>Calm</td>\n",
              "    </tr>\n",
              "  </tbody>\n",
              "</table>\n",
              "</div>\n",
              "    <div class=\"colab-df-buttons\">\n",
              "\n",
              "  <div class=\"colab-df-container\">\n",
              "    <button class=\"colab-df-convert\" onclick=\"convertToInteractive('df-ee70f256-6bb4-4fd0-9690-de2c3ad99461')\"\n",
              "            title=\"Convert this dataframe to an interactive table.\"\n",
              "            style=\"display:none;\">\n",
              "\n",
              "  <svg xmlns=\"http://www.w3.org/2000/svg\" height=\"24px\" viewBox=\"0 -960 960 960\">\n",
              "    <path d=\"M120-120v-720h720v720H120Zm60-500h600v-160H180v160Zm220 220h160v-160H400v160Zm0 220h160v-160H400v160ZM180-400h160v-160H180v160Zm440 0h160v-160H620v160ZM180-180h160v-160H180v160Zm440 0h160v-160H620v160Z\"/>\n",
              "  </svg>\n",
              "    </button>\n",
              "\n",
              "  <style>\n",
              "    .colab-df-container {\n",
              "      display:flex;\n",
              "      gap: 12px;\n",
              "    }\n",
              "\n",
              "    .colab-df-convert {\n",
              "      background-color: #E8F0FE;\n",
              "      border: none;\n",
              "      border-radius: 50%;\n",
              "      cursor: pointer;\n",
              "      display: none;\n",
              "      fill: #1967D2;\n",
              "      height: 32px;\n",
              "      padding: 0 0 0 0;\n",
              "      width: 32px;\n",
              "    }\n",
              "\n",
              "    .colab-df-convert:hover {\n",
              "      background-color: #E2EBFA;\n",
              "      box-shadow: 0px 1px 2px rgba(60, 64, 67, 0.3), 0px 1px 3px 1px rgba(60, 64, 67, 0.15);\n",
              "      fill: #174EA6;\n",
              "    }\n",
              "\n",
              "    .colab-df-buttons div {\n",
              "      margin-bottom: 4px;\n",
              "    }\n",
              "\n",
              "    [theme=dark] .colab-df-convert {\n",
              "      background-color: #3B4455;\n",
              "      fill: #D2E3FC;\n",
              "    }\n",
              "\n",
              "    [theme=dark] .colab-df-convert:hover {\n",
              "      background-color: #434B5C;\n",
              "      box-shadow: 0px 1px 3px 1px rgba(0, 0, 0, 0.15);\n",
              "      filter: drop-shadow(0px 1px 2px rgba(0, 0, 0, 0.3));\n",
              "      fill: #FFFFFF;\n",
              "    }\n",
              "  </style>\n",
              "\n",
              "    <script>\n",
              "      const buttonEl =\n",
              "        document.querySelector('#df-ee70f256-6bb4-4fd0-9690-de2c3ad99461 button.colab-df-convert');\n",
              "      buttonEl.style.display =\n",
              "        google.colab.kernel.accessAllowed ? 'block' : 'none';\n",
              "\n",
              "      async function convertToInteractive(key) {\n",
              "        const element = document.querySelector('#df-ee70f256-6bb4-4fd0-9690-de2c3ad99461');\n",
              "        const dataTable =\n",
              "          await google.colab.kernel.invokeFunction('convertToInteractive',\n",
              "                                                    [key], {});\n",
              "        if (!dataTable) return;\n",
              "\n",
              "        const docLinkHtml = 'Like what you see? Visit the ' +\n",
              "          '<a target=\"_blank\" href=https://colab.research.google.com/notebooks/data_table.ipynb>data table notebook</a>'\n",
              "          + ' to learn more about interactive tables.';\n",
              "        element.innerHTML = '';\n",
              "        dataTable['output_type'] = 'display_data';\n",
              "        await google.colab.output.renderOutput(dataTable, element);\n",
              "        const docLink = document.createElement('div');\n",
              "        docLink.innerHTML = docLinkHtml;\n",
              "        element.appendChild(docLink);\n",
              "      }\n",
              "    </script>\n",
              "  </div>\n",
              "\n",
              "\n",
              "<div id=\"df-243b59b3-478a-46e5-aa7f-66598415b0b6\">\n",
              "  <button class=\"colab-df-quickchart\" onclick=\"quickchart('df-243b59b3-478a-46e5-aa7f-66598415b0b6')\"\n",
              "            title=\"Suggest charts.\"\n",
              "            style=\"display:none;\">\n",
              "\n",
              "<svg xmlns=\"http://www.w3.org/2000/svg\" height=\"24px\"viewBox=\"0 0 24 24\"\n",
              "     width=\"24px\">\n",
              "    <g>\n",
              "        <path d=\"M19 3H5c-1.1 0-2 .9-2 2v14c0 1.1.9 2 2 2h14c1.1 0 2-.9 2-2V5c0-1.1-.9-2-2-2zM9 17H7v-7h2v7zm4 0h-2V7h2v10zm4 0h-2v-4h2v4z\"/>\n",
              "    </g>\n",
              "</svg>\n",
              "  </button>\n",
              "\n",
              "<style>\n",
              "  .colab-df-quickchart {\n",
              "      --bg-color: #E8F0FE;\n",
              "      --fill-color: #1967D2;\n",
              "      --hover-bg-color: #E2EBFA;\n",
              "      --hover-fill-color: #174EA6;\n",
              "      --disabled-fill-color: #AAA;\n",
              "      --disabled-bg-color: #DDD;\n",
              "  }\n",
              "\n",
              "  [theme=dark] .colab-df-quickchart {\n",
              "      --bg-color: #3B4455;\n",
              "      --fill-color: #D2E3FC;\n",
              "      --hover-bg-color: #434B5C;\n",
              "      --hover-fill-color: #FFFFFF;\n",
              "      --disabled-bg-color: #3B4455;\n",
              "      --disabled-fill-color: #666;\n",
              "  }\n",
              "\n",
              "  .colab-df-quickchart {\n",
              "    background-color: var(--bg-color);\n",
              "    border: none;\n",
              "    border-radius: 50%;\n",
              "    cursor: pointer;\n",
              "    display: none;\n",
              "    fill: var(--fill-color);\n",
              "    height: 32px;\n",
              "    padding: 0;\n",
              "    width: 32px;\n",
              "  }\n",
              "\n",
              "  .colab-df-quickchart:hover {\n",
              "    background-color: var(--hover-bg-color);\n",
              "    box-shadow: 0 1px 2px rgba(60, 64, 67, 0.3), 0 1px 3px 1px rgba(60, 64, 67, 0.15);\n",
              "    fill: var(--button-hover-fill-color);\n",
              "  }\n",
              "\n",
              "  .colab-df-quickchart-complete:disabled,\n",
              "  .colab-df-quickchart-complete:disabled:hover {\n",
              "    background-color: var(--disabled-bg-color);\n",
              "    fill: var(--disabled-fill-color);\n",
              "    box-shadow: none;\n",
              "  }\n",
              "\n",
              "  .colab-df-spinner {\n",
              "    border: 2px solid var(--fill-color);\n",
              "    border-color: transparent;\n",
              "    border-bottom-color: var(--fill-color);\n",
              "    animation:\n",
              "      spin 1s steps(1) infinite;\n",
              "  }\n",
              "\n",
              "  @keyframes spin {\n",
              "    0% {\n",
              "      border-color: transparent;\n",
              "      border-bottom-color: var(--fill-color);\n",
              "      border-left-color: var(--fill-color);\n",
              "    }\n",
              "    20% {\n",
              "      border-color: transparent;\n",
              "      border-left-color: var(--fill-color);\n",
              "      border-top-color: var(--fill-color);\n",
              "    }\n",
              "    30% {\n",
              "      border-color: transparent;\n",
              "      border-left-color: var(--fill-color);\n",
              "      border-top-color: var(--fill-color);\n",
              "      border-right-color: var(--fill-color);\n",
              "    }\n",
              "    40% {\n",
              "      border-color: transparent;\n",
              "      border-right-color: var(--fill-color);\n",
              "      border-top-color: var(--fill-color);\n",
              "    }\n",
              "    60% {\n",
              "      border-color: transparent;\n",
              "      border-right-color: var(--fill-color);\n",
              "    }\n",
              "    80% {\n",
              "      border-color: transparent;\n",
              "      border-right-color: var(--fill-color);\n",
              "      border-bottom-color: var(--fill-color);\n",
              "    }\n",
              "    90% {\n",
              "      border-color: transparent;\n",
              "      border-bottom-color: var(--fill-color);\n",
              "    }\n",
              "  }\n",
              "</style>\n",
              "\n",
              "  <script>\n",
              "    async function quickchart(key) {\n",
              "      const quickchartButtonEl =\n",
              "        document.querySelector('#' + key + ' button');\n",
              "      quickchartButtonEl.disabled = true;  // To prevent multiple clicks.\n",
              "      quickchartButtonEl.classList.add('colab-df-spinner');\n",
              "      try {\n",
              "        const charts = await google.colab.kernel.invokeFunction(\n",
              "            'suggestCharts', [key], {});\n",
              "      } catch (error) {\n",
              "        console.error('Error during call to suggestCharts:', error);\n",
              "      }\n",
              "      quickchartButtonEl.classList.remove('colab-df-spinner');\n",
              "      quickchartButtonEl.classList.add('colab-df-quickchart-complete');\n",
              "    }\n",
              "    (() => {\n",
              "      let quickchartButtonEl =\n",
              "        document.querySelector('#df-243b59b3-478a-46e5-aa7f-66598415b0b6 button');\n",
              "      quickchartButtonEl.style.display =\n",
              "        google.colab.kernel.accessAllowed ? 'block' : 'none';\n",
              "    })();\n",
              "  </script>\n",
              "</div>\n",
              "    </div>\n",
              "  </div>\n"
            ]
          },
          "metadata": {},
          "execution_count": 12
        }
      ],
      "source": [
        "data_df.head()"
      ]
    },
    {
      "cell_type": "code",
      "execution_count": 13,
      "id": "486354e0",
      "metadata": {
        "id": "486354e0"
      },
      "outputs": [],
      "source": [
        "def removeSpecialCharacters(sentence,keep_apostrophes=True):\n",
        "    sentence = sentence.strip()\n",
        "    if keep_apostrophes:\n",
        "        PATTERN = r'[?|$|&|*|%|@|(|)|~]'\n",
        "        filtered_sentence = re.sub(PATTERN, r'', sentence)\n",
        "        return filtered_sentence\n",
        "    return sentence"
      ]
    },
    {
      "cell_type": "code",
      "execution_count": 14,
      "id": "56ae41d0",
      "metadata": {
        "id": "56ae41d0"
      },
      "outputs": [],
      "source": [
        "def replace_full_stops(sentence):\n",
        "    return sentence.replace(\".\",\" \")"
      ]
    },
    {
      "cell_type": "code",
      "execution_count": 15,
      "id": "945365a5",
      "metadata": {
        "id": "945365a5"
      },
      "outputs": [],
      "source": [
        "data_df['Lyrics'] = data_df.apply(lambda x: removeSpecialCharacters(x.Lyrics), axis=1)\n",
        "data_df['Lyrics'] = data_df.apply(lambda x: replace_full_stops(x.Lyrics), axis=1)"
      ]
    },
    {
      "cell_type": "code",
      "execution_count": 16,
      "id": "40490828",
      "metadata": {
        "id": "40490828"
      },
      "outputs": [],
      "source": [
        "def remove_english_letters(sentence):\n",
        "    non_english_sentence = re.sub(r'[a-zA-Z]', '', sentence)\n",
        "    return non_english_sentence"
      ]
    },
    {
      "cell_type": "code",
      "execution_count": 17,
      "id": "59e5fe52",
      "metadata": {
        "id": "59e5fe52"
      },
      "outputs": [],
      "source": [
        "data_df['Lyrics']  = data_df['Lyrics'] .apply(lambda x: remove_english_letters(x))"
      ]
    },
    {
      "cell_type": "code",
      "execution_count": 18,
      "id": "40b69c33",
      "metadata": {
        "id": "40b69c33"
      },
      "outputs": [],
      "source": [
        "lines = list(open('/content/drive/My Drive/data/stop-words-sinhala.txt',encoding=\"utf8\"))\n",
        "sinhala_stop_words = [re.sub(\"\\n\",\"\",x) for x in lines]"
      ]
    },
    {
      "cell_type": "code",
      "execution_count": 19,
      "id": "2651903c",
      "metadata": {
        "id": "2651903c"
      },
      "outputs": [],
      "source": [
        "def tokenize_text(text):\n",
        "    tokens = nltk.word_tokenize(text)\n",
        "    tokens = [token.strip() for token in tokens]\n",
        "    return tokens"
      ]
    },
    {
      "cell_type": "code",
      "source": [
        "import nltk\n",
        "nltk.download('punkt')"
      ],
      "metadata": {
        "colab": {
          "base_uri": "https://localhost:8080/"
        },
        "id": "rZuA7ipW37yO",
        "outputId": "2fcbb675-aa7e-45a9-a4d0-c17a09ee01f2"
      },
      "id": "rZuA7ipW37yO",
      "execution_count": 20,
      "outputs": [
        {
          "output_type": "stream",
          "name": "stderr",
          "text": [
            "[nltk_data] Downloading package punkt to /root/nltk_data...\n",
            "[nltk_data]   Package punkt is already up-to-date!\n"
          ]
        },
        {
          "output_type": "execute_result",
          "data": {
            "text/plain": [
              "True"
            ]
          },
          "metadata": {},
          "execution_count": 20
        }
      ]
    },
    {
      "cell_type": "code",
      "execution_count": 21,
      "id": "1cf1abf9",
      "metadata": {
        "id": "1cf1abf9"
      },
      "outputs": [],
      "source": [
        "data_df['token_list']  = data_df['Lyrics'] .apply(lambda x: tokenize_text(x))"
      ]
    },
    {
      "cell_type": "code",
      "execution_count": 22,
      "id": "5b38a21b",
      "metadata": {
        "id": "5b38a21b"
      },
      "outputs": [],
      "source": [
        "def remove_sinhala_stop_words(tokens):\n",
        "    filtered_tokens = [token for token in tokens if token not in sinhala_stop_words]\n",
        "    return filtered_tokens"
      ]
    },
    {
      "cell_type": "code",
      "execution_count": 23,
      "id": "7a6d0f65",
      "metadata": {
        "id": "7a6d0f65"
      },
      "outputs": [],
      "source": [
        "data_df['token_list_after_sw'] = data_df.apply(lambda x: remove_sinhala_stop_words(x.token_list), axis=1)"
      ]
    },
    {
      "cell_type": "code",
      "execution_count": 24,
      "id": "b3aee7d1",
      "metadata": {
        "id": "b3aee7d1"
      },
      "outputs": [],
      "source": [
        "def remove_two_letter_words(tokenized_words):\n",
        "    # Use list comprehension to filter out words with length 2\n",
        "    filtered_words = [word for word in tokenized_words if len(word) > 3]\n",
        "    return filtered_words"
      ]
    },
    {
      "cell_type": "code",
      "execution_count": 25,
      "id": "fcb0a8df",
      "metadata": {
        "id": "fcb0a8df"
      },
      "outputs": [],
      "source": [
        "data_df['token_list_after_sw'] = data_df.apply(lambda x: remove_two_letter_words(x.token_list_after_sw), axis=1)"
      ]
    },
    {
      "cell_type": "code",
      "execution_count": 26,
      "id": "8a43079e",
      "metadata": {
        "id": "8a43079e"
      },
      "outputs": [],
      "source": [
        "from nltk.tokenize.treebank import TreebankWordDetokenizer\n",
        "data_df['pre_processed_text'] = data_df.apply(lambda x: TreebankWordDetokenizer().detokenize(x.token_list_after_sw), axis=1)"
      ]
    },
    {
      "cell_type": "code",
      "source": [
        "list_of_words = ' '.join(data_df['pre_processed_text']).split()"
      ],
      "metadata": {
        "id": "dcR3zMPIHgfY"
      },
      "id": "dcR3zMPIHgfY",
      "execution_count": 27,
      "outputs": []
    },
    {
      "cell_type": "code",
      "execution_count": 28,
      "id": "9cbe3d6a",
      "metadata": {
        "id": "9cbe3d6a"
      },
      "outputs": [],
      "source": [
        "from collections import Counter\n",
        "import numpy as np\n",
        "#most_common_words = [word for word, count in Counter(list_of_words).items() if count in np.arange(50,100)]\n",
        "unique_words = [word for word, count in Counter(list_of_words).items() if count in [1,2,3]]\n",
        "all_words_to_remove = unique_words;\n",
        "def remove_most_common_unique_words(tokens):\n",
        "    filtered_tokens = [token for token in tokens if token not in all_words_to_remove]\n",
        "    return filtered_tokens"
      ]
    },
    {
      "cell_type": "code",
      "execution_count": 29,
      "id": "b7b0f7d8",
      "metadata": {
        "id": "b7b0f7d8"
      },
      "outputs": [],
      "source": [
        "data_df['token_list_after_common_words'] = data_df.apply(lambda x: remove_most_common_unique_words(x.token_list_after_sw), axis=1)"
      ]
    },
    {
      "cell_type": "code",
      "execution_count": 30,
      "id": "a9cdc18a",
      "metadata": {
        "id": "a9cdc18a"
      },
      "outputs": [],
      "source": [
        "data_df['pre_processed_text'] = data_df.apply(lambda x: TreebankWordDetokenizer().detokenize(x.token_list_after_common_words), axis=1)"
      ]
    },
    {
      "cell_type": "code",
      "execution_count": 31,
      "id": "8aba84e1",
      "metadata": {
        "id": "8aba84e1"
      },
      "outputs": [],
      "source": [
        "# list_of_words = ' '.join(data_df['pre_processed_text']).split()\n",
        "# Counter(list_of_words)"
      ]
    },
    {
      "cell_type": "code",
      "execution_count": 32,
      "id": "a02a54cf",
      "metadata": {
        "id": "a02a54cf"
      },
      "outputs": [],
      "source": [
        "data_df['word_count'] = data_df['pre_processed_text'].str.split().str.len()\n",
        "#data_df.head(40)"
      ]
    },
    {
      "cell_type": "code",
      "execution_count": 33,
      "id": "586c442f",
      "metadata": {
        "colab": {
          "base_uri": "https://localhost:8080/"
        },
        "id": "586c442f",
        "outputId": "f2b34ea8-28bc-4db0-be02-36a17881b9e3"
      },
      "outputs": [
        {
          "output_type": "stream",
          "name": "stdout",
          "text": [
            "Total number of unique words <FreqDist with 4290 samples and 12566 outcomes>\n"
          ]
        }
      ],
      "source": [
        "def total_unique_words(words):\n",
        "    return nltk.FreqDist(words)\n",
        "\n",
        "print(\"Total number of unique words\",total_unique_words(list_of_words))"
      ]
    },
    {
      "cell_type": "code",
      "execution_count": 34,
      "id": "9e6f6592",
      "metadata": {
        "colab": {
          "base_uri": "https://localhost:8080/"
        },
        "id": "9e6f6592",
        "outputId": "cae006ca-6b5c-4238-b3dd-5f81da9ad33a"
      },
      "outputs": [
        {
          "output_type": "stream",
          "name": "stdout",
          "text": [
            "Total number of words 12566\n"
          ]
        }
      ],
      "source": [
        "def total_words(words):\n",
        "    return(len(words))\n",
        "print(\"Total number of words\",total_words(list_of_words))"
      ]
    },
    {
      "cell_type": "code",
      "execution_count": 35,
      "id": "e553b7e7",
      "metadata": {
        "id": "e553b7e7"
      },
      "outputs": [],
      "source": [
        "from sklearn.model_selection import train_test_split\n",
        "from sklearn import preprocessing\n",
        "label_encoder = preprocessing.LabelEncoder()"
      ]
    },
    {
      "cell_type": "code",
      "execution_count": 36,
      "id": "10b0f012",
      "metadata": {
        "id": "10b0f012"
      },
      "outputs": [],
      "source": [
        "#X= data_df['pre_processed_text']\n",
        "data_df[\"final_data\"] = \"__label__\"+data_df['Type'] + \" \" + data_df[\"pre_processed_text\"]\n",
        "#data_df\n",
        "#y=label_encoder.fit_transform(data_df['Type'])"
      ]
    },
    {
      "cell_type": "code",
      "execution_count": 49,
      "id": "fee0b3ef",
      "metadata": {
        "id": "fee0b3ef"
      },
      "outputs": [],
      "source": [
        "train, test = train_test_split(data_df, test_size=0.3)"
      ]
    },
    {
      "cell_type": "code",
      "source": [
        "train.to_csv(r\"/content/drive/My Drive/data/train.csv\",columns=['final_data'],index=False,header=False)\n"
      ],
      "metadata": {
        "id": "NblWxRAzkXpV"
      },
      "id": "NblWxRAzkXpV",
      "execution_count": 50,
      "outputs": []
    },
    {
      "cell_type": "code",
      "source": [
        "test.to_csv(r\"/content/drive/My Drive/data/test.csv\",columns=['final_data'],index=False,header=False)"
      ],
      "metadata": {
        "id": "QJgBE5Kykk2l"
      },
      "id": "QJgBE5Kykk2l",
      "execution_count": 51,
      "outputs": []
    },
    {
      "cell_type": "code",
      "source": [
        "!pip install fasttext"
      ],
      "metadata": {
        "colab": {
          "base_uri": "https://localhost:8080/"
        },
        "id": "ACi0gUx54WtP",
        "outputId": "fe88653f-f1dc-40cb-d167-e090e20e72b0"
      },
      "id": "ACi0gUx54WtP",
      "execution_count": 52,
      "outputs": [
        {
          "output_type": "stream",
          "name": "stdout",
          "text": [
            "Requirement already satisfied: fasttext in /usr/local/lib/python3.10/dist-packages (0.9.2)\n",
            "Requirement already satisfied: pybind11>=2.2 in /usr/local/lib/python3.10/dist-packages (from fasttext) (2.11.1)\n",
            "Requirement already satisfied: setuptools>=0.7.0 in /usr/local/lib/python3.10/dist-packages (from fasttext) (67.7.2)\n",
            "Requirement already satisfied: numpy in /usr/local/lib/python3.10/dist-packages (from fasttext) (1.23.5)\n"
          ]
        }
      ]
    },
    {
      "cell_type": "code",
      "execution_count": 53,
      "id": "1fc70e1b",
      "metadata": {
        "id": "1fc70e1b"
      },
      "outputs": [],
      "source": [
        "import fasttext as ft"
      ]
    },
    {
      "cell_type": "code",
      "execution_count": 54,
      "id": "e6e0bb13",
      "metadata": {
        "id": "e6e0bb13"
      },
      "outputs": [],
      "source": [
        "classifier = ft.train_supervised(input=\"/content/drive/My Drive/data/train.csv\",lr=1.0, epoch=25, wordNgrams=2)"
      ]
    },
    {
      "cell_type": "code",
      "source": [
        "classifier"
      ],
      "metadata": {
        "colab": {
          "base_uri": "https://localhost:8080/"
        },
        "id": "z16iyWU5-kRc",
        "outputId": "b086920c-319b-40c3-c00e-7bce79b78be8"
      },
      "id": "z16iyWU5-kRc",
      "execution_count": 55,
      "outputs": [
        {
          "output_type": "execute_result",
          "data": {
            "text/plain": [
              "<fasttext.FastText._FastText at 0x7a619e332650>"
            ]
          },
          "metadata": {},
          "execution_count": 55
        }
      ]
    },
    {
      "cell_type": "code",
      "source": [
        "out= classifier.test(r\"/content/drive/My Drive/data/test.csv\",k=10)"
      ],
      "metadata": {
        "id": "_1dOcHTAipNR"
      },
      "id": "_1dOcHTAipNR",
      "execution_count": 56,
      "outputs": []
    },
    {
      "cell_type": "code",
      "source": [
        "#numberofsamples  #precision # recall\n",
        "out"
      ],
      "metadata": {
        "colab": {
          "base_uri": "https://localhost:8080/"
        },
        "id": "795_3x7aEHJm",
        "outputId": "fec4fba2-6f51-4f82-ec18-1ea1d06e4ca7"
      },
      "id": "795_3x7aEHJm",
      "execution_count": 57,
      "outputs": [
        {
          "output_type": "execute_result",
          "data": {
            "text/plain": [
              "(49, 0.3333333333333333, 1.0)"
            ]
          },
          "metadata": {},
          "execution_count": 57
        }
      ]
    },
    {
      "cell_type": "code",
      "source": [
        "accuracy= 2 * ((out[1] *out[2]) / (out[1] + out[2]))"
      ],
      "metadata": {
        "id": "28Lt1DVCEJOs"
      },
      "id": "28Lt1DVCEJOs",
      "execution_count": 58,
      "outputs": []
    },
    {
      "cell_type": "code",
      "source": [
        "accuracy*100"
      ],
      "metadata": {
        "colab": {
          "base_uri": "https://localhost:8080/"
        },
        "id": "BssH9ouKC3Iz",
        "outputId": "0e89fb6c-5010-499d-d6b4-130577ad9b51"
      },
      "id": "BssH9ouKC3Iz",
      "execution_count": 59,
      "outputs": [
        {
          "output_type": "execute_result",
          "data": {
            "text/plain": [
              "50.0"
            ]
          },
          "metadata": {},
          "execution_count": 59
        }
      ]
    },
    {
      "cell_type": "code",
      "source": [
        "classifier.predict(\"දුක දන්නේ වෙන කවුද ඇස් දෙක තරම්ම මම\",k=3)"
      ],
      "metadata": {
        "colab": {
          "base_uri": "https://localhost:8080/"
        },
        "id": "eAHdGavVlni3",
        "outputId": "bbb5e5fc-ffe1-4a76-8800-340867b5fa37"
      },
      "id": "eAHdGavVlni3",
      "execution_count": 60,
      "outputs": [
        {
          "output_type": "execute_result",
          "data": {
            "text/plain": [
              "(('__label__Sad', '__label__Calm', '__label__Happy'),\n",
              " array([0.84007603, 0.0970296 , 0.06292434]))"
            ]
          },
          "metadata": {},
          "execution_count": 60
        }
      ]
    },
    {
      "cell_type": "code",
      "source": [],
      "metadata": {
        "id": "P7TYLIcq__y0"
      },
      "id": "P7TYLIcq__y0",
      "execution_count": 60,
      "outputs": []
    }
  ],
  "metadata": {
    "kernelspec": {
      "display_name": "Python 3 (ipykernel)",
      "language": "python",
      "name": "python3"
    },
    "language_info": {
      "codemirror_mode": {
        "name": "ipython",
        "version": 3
      },
      "file_extension": ".py",
      "mimetype": "text/x-python",
      "name": "python",
      "nbconvert_exporter": "python",
      "pygments_lexer": "ipython3",
      "version": "3.9.7"
    },
    "colab": {
      "provenance": []
    }
  },
  "nbformat": 4,
  "nbformat_minor": 5
}